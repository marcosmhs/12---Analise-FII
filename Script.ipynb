{
  "cells": [
    {
      "attachments": {},
      "cell_type": "markdown",
      "metadata": {
        "id": "DkR3vBb-KjDS"
      },
      "source": [
        "### Preparação do ambiente"
      ]
    },
    {
      "cell_type": "code",
      "execution_count": 11,
      "metadata": {
        "colab": {
          "base_uri": "https://localhost:8080/"
        },
        "id": "wzDciAKFFCQt",
        "outputId": "bb651525-b554-426c-dd41-1d654e1a55f9"
      },
      "outputs": [],
      "source": [
        "# Executar apenas se for a primeira primeira vez que abre este script\n",
        "# !pip install -U requests lxml pandas requests"
      ]
    },
    {
      "cell_type": "code",
      "execution_count": 12,
      "metadata": {},
      "outputs": [],
      "source": [
        "import pandas as pd\n",
        "import requests\n",
        "import webbrowser\n",
        "from ipywidgets import interact, interact_manual"
      ]
    },
    {
      "cell_type": "code",
      "execution_count": 13,
      "metadata": {},
      "outputs": [],
      "source": [
        "pd.options.display.float_format = '{:.2f}'.format\n",
        "page_data = requests.get(\"https://www.fundsexplorer.com.br/ranking\").text"
      ]
    },
    {
      "attachments": {},
      "cell_type": "markdown",
      "metadata": {},
      "source": [
        "### Leitura dos dados"
      ]
    },
    {
      "cell_type": "code",
      "execution_count": 14,
      "metadata": {
        "id": "26D2AVxnLsKS"
      },
      "outputs": [],
      "source": [
        "\n",
        "df_fiis = pd.read_html(page_data)[0]\n",
        "\n",
        "# remove os caracteres que irão impedir conversão de dados\n",
        "df_fiis = df_fiis.replace([\"R\\$\", \"%\", \"\\.\"], \"\", regex = True)\n",
        "\n",
        "# substitui , por . (para permitir a transformação do string em float)\n",
        "df_fiis = df_fiis.replace(\",\", \".\", regex = True)\n",
        "\n",
        "# valor do P/VPA muda durante a importacão, isso é necessário para retorná-lo ao valor original\n",
        "df_fiis[\"P/VPA\"] = df_fiis[\"P/VPA\"] / 100\n",
        "df_fiis[\"VPA\"] = pd.to_numeric(df_fiis[\"VPA\"], downcast=\"float\") / 100\n"
      ]
    },
    {
      "attachments": {},
      "cell_type": "markdown",
      "metadata": {},
      "source": [
        "### Visualização"
      ]
    },
    {
      "cell_type": "code",
      "execution_count": 15,
      "metadata": {},
      "outputs": [
        {
          "data": {
            "text/html": [
              "<div>\n",
              "<style scoped>\n",
              "    .dataframe tbody tr th:only-of-type {\n",
              "        vertical-align: middle;\n",
              "    }\n",
              "\n",
              "    .dataframe tbody tr th {\n",
              "        vertical-align: top;\n",
              "    }\n",
              "\n",
              "    .dataframe thead th {\n",
              "        text-align: right;\n",
              "    }\n",
              "</style>\n",
              "<table border=\"1\" class=\"dataframe\">\n",
              "  <thead>\n",
              "    <tr style=\"text-align: right;\">\n",
              "      <th></th>\n",
              "      <th>Código do fundo</th>\n",
              "      <th>Setor</th>\n",
              "      <th>Preço Atual</th>\n",
              "      <th>Liquidez Diária</th>\n",
              "      <th>Dividendo</th>\n",
              "      <th>Dividend Yield</th>\n",
              "      <th>DY (3M) Acumulado</th>\n",
              "      <th>DY (6M) Acumulado</th>\n",
              "      <th>DY (12M) Acumulado</th>\n",
              "      <th>DY (3M) Média</th>\n",
              "      <th>...</th>\n",
              "      <th>Patrimônio Líq.</th>\n",
              "      <th>VPA</th>\n",
              "      <th>P/VPA</th>\n",
              "      <th>DY Patrimonial</th>\n",
              "      <th>Variação Patrimonial</th>\n",
              "      <th>Rentab. Patr. no Período</th>\n",
              "      <th>Rentab. Patr. Acumulada</th>\n",
              "      <th>Vacância Física</th>\n",
              "      <th>Vacância Financeira</th>\n",
              "      <th>Quantidade Ativos</th>\n",
              "    </tr>\n",
              "  </thead>\n",
              "  <tbody>\n",
              "    <tr>\n",
              "      <th>0</th>\n",
              "      <td>FIVN11</td>\n",
              "      <td>Shoppings</td>\n",
              "      <td>3.33</td>\n",
              "      <td>1565.00</td>\n",
              "      <td>0.00</td>\n",
              "      <td>0.00</td>\n",
              "      <td>0.00</td>\n",
              "      <td>0.00</td>\n",
              "      <td>0.00</td>\n",
              "      <td>0.00</td>\n",
              "      <td>...</td>\n",
              "      <td>65352435.22</td>\n",
              "      <td>0.07</td>\n",
              "      <td>0.48</td>\n",
              "      <td>NaN</td>\n",
              "      <td>NaN</td>\n",
              "      <td>NaN</td>\n",
              "      <td>NaN</td>\n",
              "      <td>56.00</td>\n",
              "      <td>NaN</td>\n",
              "      <td>1</td>\n",
              "    </tr>\n",
              "    <tr>\n",
              "      <th>1</th>\n",
              "      <td>BZLI11</td>\n",
              "      <td>Títulos e Val Mob</td>\n",
              "      <td>17.01</td>\n",
              "      <td>2.00</td>\n",
              "      <td>0.00</td>\n",
              "      <td>0.00</td>\n",
              "      <td>0.00</td>\n",
              "      <td>0.00</td>\n",
              "      <td>0.00</td>\n",
              "      <td>0.00</td>\n",
              "      <td>...</td>\n",
              "      <td>433127158.26</td>\n",
              "      <td>0.10</td>\n",
              "      <td>1.62</td>\n",
              "      <td>NaN</td>\n",
              "      <td>NaN</td>\n",
              "      <td>NaN</td>\n",
              "      <td>NaN</td>\n",
              "      <td>NaN</td>\n",
              "      <td>NaN</td>\n",
              "      <td>0</td>\n",
              "    </tr>\n",
              "    <tr>\n",
              "      <th>2</th>\n",
              "      <td>XTED11</td>\n",
              "      <td>Lajes Corporativas</td>\n",
              "      <td>8.82</td>\n",
              "      <td>2223.00</td>\n",
              "      <td>0.00</td>\n",
              "      <td>0.00</td>\n",
              "      <td>0.00</td>\n",
              "      <td>0.00</td>\n",
              "      <td>0.00</td>\n",
              "      <td>0.00</td>\n",
              "      <td>...</td>\n",
              "      <td>27688895.17</td>\n",
              "      <td>0.13</td>\n",
              "      <td>0.67</td>\n",
              "      <td>NaN</td>\n",
              "      <td>NaN</td>\n",
              "      <td>NaN</td>\n",
              "      <td>NaN</td>\n",
              "      <td>0.00</td>\n",
              "      <td>100.00</td>\n",
              "      <td>1</td>\n",
              "    </tr>\n",
              "    <tr>\n",
              "      <th>3</th>\n",
              "      <td>ALMI11</td>\n",
              "      <td>Lajes Corporativas</td>\n",
              "      <td>926.00</td>\n",
              "      <td>319.00</td>\n",
              "      <td>0.00</td>\n",
              "      <td>0.00</td>\n",
              "      <td>0.00</td>\n",
              "      <td>0.00</td>\n",
              "      <td>0.00</td>\n",
              "      <td>0.00</td>\n",
              "      <td>...</td>\n",
              "      <td>250446109.75</td>\n",
              "      <td>22.53</td>\n",
              "      <td>0.41</td>\n",
              "      <td>NaN</td>\n",
              "      <td>NaN</td>\n",
              "      <td>NaN</td>\n",
              "      <td>NaN</td>\n",
              "      <td>64.05</td>\n",
              "      <td>NaN</td>\n",
              "      <td>1</td>\n",
              "    </tr>\n",
              "    <tr>\n",
              "      <th>4</th>\n",
              "      <td>PABY11</td>\n",
              "      <td>Híbrido</td>\n",
              "      <td>18.11</td>\n",
              "      <td>137.00</td>\n",
              "      <td>0.00</td>\n",
              "      <td>0.00</td>\n",
              "      <td>0.00</td>\n",
              "      <td>0.00</td>\n",
              "      <td>0.00</td>\n",
              "      <td>0.00</td>\n",
              "      <td>...</td>\n",
              "      <td>-12026292.32</td>\n",
              "      <td>-0.16</td>\n",
              "      <td>-1.14</td>\n",
              "      <td>NaN</td>\n",
              "      <td>NaN</td>\n",
              "      <td>NaN</td>\n",
              "      <td>NaN</td>\n",
              "      <td>NaN</td>\n",
              "      <td>NaN</td>\n",
              "      <td>1</td>\n",
              "    </tr>\n",
              "  </tbody>\n",
              "</table>\n",
              "<p>5 rows × 26 columns</p>\n",
              "</div>"
            ],
            "text/plain": [
              "  Código do fundo               Setor Preço Atual  Liquidez Diária Dividendo  \\\n",
              "0          FIVN11           Shoppings        3.33          1565.00      0.00   \n",
              "1          BZLI11   Títulos e Val Mob       17.01             2.00      0.00   \n",
              "2          XTED11  Lajes Corporativas        8.82          2223.00      0.00   \n",
              "3          ALMI11  Lajes Corporativas      926.00           319.00      0.00   \n",
              "4          PABY11             Híbrido       18.11           137.00      0.00   \n",
              "\n",
              "  Dividend Yield DY (3M) Acumulado DY (6M) Acumulado DY (12M) Acumulado  \\\n",
              "0           0.00              0.00              0.00               0.00   \n",
              "1           0.00              0.00              0.00               0.00   \n",
              "2           0.00              0.00              0.00               0.00   \n",
              "3           0.00              0.00              0.00               0.00   \n",
              "4           0.00              0.00              0.00               0.00   \n",
              "\n",
              "  DY (3M) Média  ... Patrimônio Líq.   VPA P/VPA DY Patrimonial  \\\n",
              "0          0.00  ...     65352435.22  0.07  0.48            NaN   \n",
              "1          0.00  ...    433127158.26  0.10  1.62            NaN   \n",
              "2          0.00  ...     27688895.17  0.13  0.67            NaN   \n",
              "3          0.00  ...    250446109.75 22.53  0.41            NaN   \n",
              "4          0.00  ...    -12026292.32 -0.16 -1.14            NaN   \n",
              "\n",
              "  Variação Patrimonial Rentab. Patr. no Período Rentab. Patr. Acumulada  \\\n",
              "0                  NaN                      NaN                     NaN   \n",
              "1                  NaN                      NaN                     NaN   \n",
              "2                  NaN                      NaN                     NaN   \n",
              "3                  NaN                      NaN                     NaN   \n",
              "4                  NaN                      NaN                     NaN   \n",
              "\n",
              "   Vacância Física  Vacância Financeira Quantidade Ativos  \n",
              "0            56.00                  NaN                 1  \n",
              "1              NaN                  NaN                 0  \n",
              "2             0.00               100.00                 1  \n",
              "3            64.05                  NaN                 1  \n",
              "4              NaN                  NaN                 1  \n",
              "\n",
              "[5 rows x 26 columns]"
            ]
          },
          "execution_count": 15,
          "metadata": {},
          "output_type": "execute_result"
        }
      ],
      "source": [
        "df_fiis.head()"
      ]
    },
    {
      "attachments": {},
      "cell_type": "markdown",
      "metadata": {},
      "source": [
        "##### Detalhamento de algumas colunas\n",
        "\n",
        "- `Preço atual`: valor da cota\n",
        "- `Liquidez diária`: valor \n",
        "- `Dividendo`: valor pago para cada cota \n",
        "- `Dividend Yield`: Retorno calculado sobre a divisão do último dividendo anunciado pelo valor da cota no fechamento do mÊs\n",
        "- `DY (XX) acumulado`- Soma do Dividend Yield nos últimos x períodos (podendo ser M-mês ou Y-ano)\n",
        "- `DY (XX) média`- Média do Dividend Yield nos últimos x períodos (podendo ser M-mês ou Y-ano)\n",
        "- `DY ano`- Soma do [Dividend Yield] no último ano\n",
        "- `VPA`: resultado da divisão do Patrimônio líquido do fundo sobre o total de todas do fundo\n",
        "- `P/VPA`: Indicador calculado pela divisão do preço da cota sobre o valor do patrimonial do fundo\n",
        " \n",
        " "
      ]
    },
    {
      "attachments": {},
      "cell_type": "markdown",
      "metadata": {
        "id": "LgKf6zowFCQv"
      },
      "source": [
        "### Lista de fundos que serão utilizados na classificação"
      ]
    },
    {
      "attachments": {},
      "cell_type": "markdown",
      "metadata": {},
      "source": [
        "##### Caso queira utilizar apenas fundos específicos\n",
        "\n",
        "Descomente este bloco e preencha a lista com os fundos que deseja acompanhar"
      ]
    },
    {
      "cell_type": "code",
      "execution_count": 16,
      "metadata": {},
      "outputs": [],
      "source": [
        "## fundos analistados\n",
        "#fii_list = [\n",
        "#    \"IRDM11\",    \"BCFF11\",    \"BRCR11\",    \"BTLG11\",    \"HGCR11\",    \"VRTA11\",    \"GGRC11\",\n",
        "#    \"HCTR11\",    \"FIIB11\",    \"KISU11\",    \"KNRI11\",    \"MXRF11\",    \"QAGR11\",    \"TORD11\",\n",
        "#    \"XPLG11\",    \"HGRE11\",    \"PVBI11\",    \"BRCO11\",    \"XPML11\",    \"HGCR11\",    \"CPTS11\",\n",
        "#    \"MCCI11\"     \"BTCR11\",    \"RBRR11\",    \"KNCR11\",    \"XPML11\",    \"VILG11\",    \"HSLG11\",\n",
        "#    \"VISC11\",    \"RBRY11\",    \"BTRA11\",    \"TRXF11\",    \"CVBI11\",]"
      ]
    },
    {
      "attachments": {},
      "cell_type": "markdown",
      "metadata": {},
      "source": [
        "#### Caso queira utizar todos os fundos disponíveis exceto alguns\n",
        "\n",
        "Esta opcão é ideal para quem está iniciando e quer conhecer todos os fundos disponíveis. Uma vez selecionados os fundos desejados este bloco pode se comentado ou excluído"
      ]
    },
    {
      "cell_type": "code",
      "execution_count": 17,
      "metadata": {
        "id": "7zwXa_91LvWV"
      },
      "outputs": [],
      "source": [
        "# todos os fundos disponíveis\n",
        "fii_list = df_fiis['Código do fundo'].unique().tolist()\n",
        "\n",
        "# fundos que devem ser removidos\n",
        "fii_list.remove('GESE11B')\n",
        "fii_list.remove('QIRI11')"
      ]
    },
    {
      "attachments": {},
      "cell_type": "markdown",
      "metadata": {},
      "source": [
        "### Calculo da nota do fundo\n",
        "\n",
        "A nota é calculada multiplicando o:\n",
        " - Indicador calculado pela divisão do preço da cota sobre o valor do patrimonial do fundo\n",
        " - Média do Dividend Yield no último ano\n",
        "\n",
        "Desta forma é possível identificar os fundos que podem gerar maior retorno neste período"
      ]
    },
    {
      "cell_type": "code",
      "execution_count": 18,
      "metadata": {
        "colab": {
          "base_uri": "https://localhost:8080/",
          "height": 1000
        },
        "id": "BMQLEdRHL27U",
        "outputId": "82b82fdd-570a-4422-bd98-2b9d21ec3d50"
      },
      "outputs": [
        {
          "name": "stderr",
          "output_type": "stream",
          "text": [
            "C:\\Users\\marco\\AppData\\Local\\Temp\\ipykernel_10864\\97052748.py:4: SettingWithCopyWarning: \n",
            "A value is trying to be set on a copy of a slice from a DataFrame.\n",
            "Try using .loc[row_indexer,col_indexer] = value instead\n",
            "\n",
            "See the caveats in the documentation: https://pandas.pydata.org/pandas-docs/stable/user_guide/indexing.html#returning-a-view-versus-a-copy\n",
            "  analized_fiis['Nota'] = (\n",
            "C:\\Users\\marco\\AppData\\Local\\Temp\\ipykernel_10864\\97052748.py:9: SettingWithCopyWarning: \n",
            "A value is trying to be set on a copy of a slice from a DataFrame\n",
            "\n",
            "See the caveats in the documentation: https://pandas.pydata.org/pandas-docs/stable/user_guide/indexing.html#returning-a-view-versus-a-copy\n",
            "  analized_fiis.sort_values(by=[\"Nota\"], inplace=True, ascending=[False])\n"
          ]
        }
      ],
      "source": [
        "filtered_fiis = df_fiis[df_fiis[\"Código do fundo\"].isin(fii_list)]\n",
        "analized_fiis = filtered_fiis[[\"Código do fundo\", \"Setor\", \"Preço Atual\", \"Dividend Yield\", \"DY (3M) Média\", \"DY (6M) Média\", \"DY (12M) Média\", \"VPA\", \"P/VPA\"]]\n",
        "\n",
        "analized_fiis['Nota'] = (\n",
        "                                (1 / analized_fiis['P/VPA']) \n",
        "                                * pd.to_numeric(df_fiis[\"DY (12M) Acumulado\"], downcast=\"float\")\n",
        "                           )\n",
        "\n",
        "analized_fiis.sort_values(by=[\"Nota\"], inplace=True, ascending=[False])"
      ]
    },
    {
      "attachments": {},
      "cell_type": "markdown",
      "metadata": {},
      "source": [
        "### Resultado"
      ]
    },
    {
      "attachments": {},
      "cell_type": "markdown",
      "metadata": {},
      "source": [
        "##### Top 10 Fundos Imobiliários"
      ]
    },
    {
      "cell_type": "code",
      "execution_count": 19,
      "metadata": {},
      "outputs": [
        {
          "data": {
            "text/html": [
              "<div>\n",
              "<style scoped>\n",
              "    .dataframe tbody tr th:only-of-type {\n",
              "        vertical-align: middle;\n",
              "    }\n",
              "\n",
              "    .dataframe tbody tr th {\n",
              "        vertical-align: top;\n",
              "    }\n",
              "\n",
              "    .dataframe thead th {\n",
              "        text-align: right;\n",
              "    }\n",
              "</style>\n",
              "<table border=\"1\" class=\"dataframe\">\n",
              "  <thead>\n",
              "    <tr style=\"text-align: right;\">\n",
              "      <th></th>\n",
              "      <th>Código do fundo</th>\n",
              "      <th>Setor</th>\n",
              "      <th>Preço Atual</th>\n",
              "      <th>Dividend Yield</th>\n",
              "      <th>DY (3M) Média</th>\n",
              "      <th>DY (6M) Média</th>\n",
              "      <th>DY (12M) Média</th>\n",
              "      <th>VPA</th>\n",
              "      <th>P/VPA</th>\n",
              "      <th>Nota</th>\n",
              "    </tr>\n",
              "  </thead>\n",
              "  <tbody>\n",
              "    <tr>\n",
              "      <th>132</th>\n",
              "      <td>CYCR11</td>\n",
              "      <td>Títulos e Val Mob</td>\n",
              "      <td>8.40</td>\n",
              "      <td>1.16</td>\n",
              "      <td>1.18</td>\n",
              "      <td>1.13</td>\n",
              "      <td>1.22</td>\n",
              "      <td>0.95</td>\n",
              "      <td>0.09</td>\n",
              "      <td>162.22</td>\n",
              "    </tr>\n",
              "    <tr>\n",
              "      <th>41</th>\n",
              "      <td>IBFF11</td>\n",
              "      <td>Títulos e Val Mob</td>\n",
              "      <td>3.08</td>\n",
              "      <td>0.44</td>\n",
              "      <td>0.67</td>\n",
              "      <td>0.76</td>\n",
              "      <td>0.79</td>\n",
              "      <td>0.15</td>\n",
              "      <td>0.21</td>\n",
              "      <td>45.33</td>\n",
              "    </tr>\n",
              "    <tr>\n",
              "      <th>40</th>\n",
              "      <td>IBFF11</td>\n",
              "      <td>Títulos e Val Mob</td>\n",
              "      <td>3.08</td>\n",
              "      <td>0.44</td>\n",
              "      <td>0.67</td>\n",
              "      <td>0.76</td>\n",
              "      <td>0.79</td>\n",
              "      <td>0.15</td>\n",
              "      <td>0.21</td>\n",
              "      <td>45.33</td>\n",
              "    </tr>\n",
              "    <tr>\n",
              "      <th>9</th>\n",
              "      <td>FAMB11B</td>\n",
              "      <td>Lajes Corporativas</td>\n",
              "      <td>811.00</td>\n",
              "      <td>0.56</td>\n",
              "      <td>0.72</td>\n",
              "      <td>0.80</td>\n",
              "      <td>0.87</td>\n",
              "      <td>30.27</td>\n",
              "      <td>0.27</td>\n",
              "      <td>38.63</td>\n",
              "    </tr>\n",
              "    <tr>\n",
              "      <th>258</th>\n",
              "      <td>XPCM11</td>\n",
              "      <td>Lajes Corporativas</td>\n",
              "      <td>14.77</td>\n",
              "      <td>1.14</td>\n",
              "      <td>0.91</td>\n",
              "      <td>0.92</td>\n",
              "      <td>0.91</td>\n",
              "      <td>0.52</td>\n",
              "      <td>0.29</td>\n",
              "      <td>37.45</td>\n",
              "    </tr>\n",
              "    <tr>\n",
              "      <th>218</th>\n",
              "      <td>FPAB11</td>\n",
              "      <td>Lajes Corporativas</td>\n",
              "      <td>119.34</td>\n",
              "      <td>0.84</td>\n",
              "      <td>0.81</td>\n",
              "      <td>0.80</td>\n",
              "      <td>0.75</td>\n",
              "      <td>4.10</td>\n",
              "      <td>0.29</td>\n",
              "      <td>31.03</td>\n",
              "    </tr>\n",
              "    <tr>\n",
              "      <th>87</th>\n",
              "      <td>MBRF11</td>\n",
              "      <td>Outros</td>\n",
              "      <td>679.00</td>\n",
              "      <td>1.47</td>\n",
              "      <td>1.47</td>\n",
              "      <td>1.60</td>\n",
              "      <td>1.48</td>\n",
              "      <td>11.33</td>\n",
              "      <td>0.60</td>\n",
              "      <td>29.62</td>\n",
              "    </tr>\n",
              "    <tr>\n",
              "      <th>104</th>\n",
              "      <td>EDGA11</td>\n",
              "      <td>Lajes Corporativas</td>\n",
              "      <td>17.73</td>\n",
              "      <td>0.85</td>\n",
              "      <td>0.61</td>\n",
              "      <td>0.66</td>\n",
              "      <td>0.64</td>\n",
              "      <td>0.66</td>\n",
              "      <td>0.27</td>\n",
              "      <td>28.22</td>\n",
              "    </tr>\n",
              "    <tr>\n",
              "      <th>7</th>\n",
              "      <td>NEWU11</td>\n",
              "      <td>Lajes Corporativas</td>\n",
              "      <td>40.26</td>\n",
              "      <td>0.00</td>\n",
              "      <td>0.00</td>\n",
              "      <td>0.09</td>\n",
              "      <td>1.39</td>\n",
              "      <td>0.65</td>\n",
              "      <td>0.62</td>\n",
              "      <td>26.82</td>\n",
              "    </tr>\n",
              "    <tr>\n",
              "      <th>262</th>\n",
              "      <td>BBFI11B</td>\n",
              "      <td>Lajes Corporativas</td>\n",
              "      <td>1925.00</td>\n",
              "      <td>1.40</td>\n",
              "      <td>1.41</td>\n",
              "      <td>1.42</td>\n",
              "      <td>1.37</td>\n",
              "      <td>28.55</td>\n",
              "      <td>0.67</td>\n",
              "      <td>24.48</td>\n",
              "    </tr>\n",
              "  </tbody>\n",
              "</table>\n",
              "</div>"
            ],
            "text/plain": [
              "    Código do fundo               Setor Preço Atual Dividend Yield  \\\n",
              "132          CYCR11   Títulos e Val Mob        8.40           1.16   \n",
              "41           IBFF11   Títulos e Val Mob        3.08           0.44   \n",
              "40           IBFF11   Títulos e Val Mob        3.08           0.44   \n",
              "9           FAMB11B  Lajes Corporativas      811.00           0.56   \n",
              "258          XPCM11  Lajes Corporativas       14.77           1.14   \n",
              "218          FPAB11  Lajes Corporativas      119.34           0.84   \n",
              "87           MBRF11              Outros      679.00           1.47   \n",
              "104          EDGA11  Lajes Corporativas       17.73           0.85   \n",
              "7            NEWU11  Lajes Corporativas       40.26           0.00   \n",
              "262         BBFI11B  Lajes Corporativas     1925.00           1.40   \n",
              "\n",
              "    DY (3M) Média DY (6M) Média DY (12M) Média   VPA  P/VPA   Nota  \n",
              "132          1.18          1.13           1.22  0.95   0.09 162.22  \n",
              "41           0.67          0.76           0.79  0.15   0.21  45.33  \n",
              "40           0.67          0.76           0.79  0.15   0.21  45.33  \n",
              "9            0.72          0.80           0.87 30.27   0.27  38.63  \n",
              "258          0.91          0.92           0.91  0.52   0.29  37.45  \n",
              "218          0.81          0.80           0.75  4.10   0.29  31.03  \n",
              "87           1.47          1.60           1.48 11.33   0.60  29.62  \n",
              "104          0.61          0.66           0.64  0.66   0.27  28.22  \n",
              "7            0.00          0.09           1.39  0.65   0.62  26.82  \n",
              "262          1.41          1.42           1.37 28.55   0.67  24.48  "
            ]
          },
          "execution_count": 19,
          "metadata": {},
          "output_type": "execute_result"
        }
      ],
      "source": [
        "analized_fiis.nlargest(10, 'Nota')"
      ]
    },
    {
      "attachments": {},
      "cell_type": "markdown",
      "metadata": {},
      "source": [
        "##### Salva dados em arquivo CSV"
      ]
    },
    {
      "cell_type": "code",
      "execution_count": 17,
      "metadata": {},
      "outputs": [],
      "source": [
        "analized_fiis.to_csv('fiis.csv')"
      ]
    },
    {
      "attachments": {},
      "cell_type": "markdown",
      "metadata": {},
      "source": [
        "### Consulta "
      ]
    },
    {
      "attachments": {},
      "cell_type": "markdown",
      "metadata": {},
      "source": [
        "Visualização por fundo\n",
        "\n",
        "Ao selecionar um fundo os dados disponíveis serão exibidos e seu navegador será aberto com mais detalhes"
      ]
    },
    {
      "cell_type": "code",
      "execution_count": 20,
      "metadata": {},
      "outputs": [
        {
          "data": {
            "application/vnd.jupyter.widget-view+json": {
              "model_id": "e98e761c97ea4ee180a5a1dfd2fc75fc",
              "version_major": 2,
              "version_minor": 0
            },
            "text/plain": [
              "interactive(children=(Dropdown(description='fundo', options=('ABCP11', 'AFHI11', 'AFOF11', 'AGRX11', 'AIEC11',…"
            ]
          },
          "metadata": {},
          "output_type": "display_data"
        },
        {
          "data": {
            "text/plain": [
              "<function __main__.list_fii_data(fundo)>"
            ]
          },
          "execution_count": 20,
          "metadata": {},
          "output_type": "execute_result"
        }
      ],
      "source": [
        "   \n",
        "def list_fii_data(fundo):\n",
        "    webbrowser.open_new('https://www.fundsexplorer.com.br/funds/' + fundo)\n",
        "    return analized_fiis.set_index('Código do fundo').loc[[fundo]]\n",
        "\n",
        "interact(\n",
        "    list_fii_data, \n",
        "    fundo= analized_fiis.sort_values(by=[\"Código do fundo\"])['Código do fundo'].unique(). tolist()\n",
        "    \n",
        ")"
      ]
    },
    {
      "attachments": {},
      "cell_type": "markdown",
      "metadata": {},
      "source": [
        "Visualização por setor"
      ]
    },
    {
      "cell_type": "code",
      "execution_count": 22,
      "metadata": {},
      "outputs": [
        {
          "data": {
            "application/vnd.jupyter.widget-view+json": {
              "model_id": "eb612b99330945e69f2a4be41e6f685b",
              "version_major": 2,
              "version_minor": 0
            },
            "text/plain": [
              "interactive(children=(Dropdown(description='sector', options=('Títulos e Val Mob', 'Lajes Corporativas', 'Outr…"
            ]
          },
          "metadata": {},
          "output_type": "display_data"
        },
        {
          "data": {
            "text/plain": [
              "<function __main__.list_sector_data(sector)>"
            ]
          },
          "execution_count": 22,
          "metadata": {},
          "output_type": "execute_result"
        }
      ],
      "source": [
        "def list_sector_data(sector):\n",
        "    return analized_fiis.set_index('Setor').loc[[sector]]\n",
        "\n",
        "interact(\n",
        "    list_sector_data, \n",
        "    sector = analized_fiis['Setor'].unique().tolist()\n",
        ")"
      ]
    }
  ],
  "metadata": {
    "colab": {
      "provenance": []
    },
    "kernelspec": {
      "display_name": "Python 3",
      "language": "python",
      "name": "python3"
    },
    "language_info": {
      "codemirror_mode": {
        "name": "ipython",
        "version": 3
      },
      "file_extension": ".py",
      "mimetype": "text/x-python",
      "name": "python",
      "nbconvert_exporter": "python",
      "pygments_lexer": "ipython3",
      "version": "3.10.5"
    },
    "vscode": {
      "interpreter": {
        "hash": "26de051ba29f2982a8de78e945f0abaf191376122a1563185a90213a26c5da77"
      }
    }
  },
  "nbformat": 4,
  "nbformat_minor": 0
}
